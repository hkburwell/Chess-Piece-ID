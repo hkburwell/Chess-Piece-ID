{
  "nbformat": 4,
  "nbformat_minor": 0,
  "metadata": {
    "accelerator": "GPU",
    "colab": {
      "name": "ChessPieceIDLite.ipynb",
      "provenance": [],
      "collapsed_sections": [],
      "authorship_tag": "ABX9TyOOsIiMbqAZHOtHsdiyky7Z",
      "include_colab_link": true
    },
    "kernelspec": {
      "display_name": "Python 3",
      "name": "python3"
    },
    "widgets": {
      "application/vnd.jupyter.widget-state+json": {
        "9636f3de79064246a60bfbd3e59873af": {
          "model_module": "@jupyter-widgets/controls",
          "model_name": "FileUploadModel",
          "state": {
            "_view_name": "FileUploadView",
            "_counter": 1,
            "style": "IPY_MODEL_e2825c6d8c924709b331d266a4e304fa",
            "_dom_classes": [],
            "description": "Upload",
            "multiple": false,
            "_model_name": "FileUploadModel",
            "data": [
              null
            ],
            "button_style": "",
            "_view_module": "@jupyter-widgets/controls",
            "_model_module_version": "1.5.0",
            "accept": "",
            "_view_count": null,
            "disabled": false,
            "_view_module_version": "1.5.0",
            "error": "",
            "description_tooltip": null,
            "metadata": [
              {
                "name": "Bishop61.jpg",
                "type": "image/jpeg",
                "size": 949,
                "lastModified": 1601593226468
              }
            ],
            "_model_module": "@jupyter-widgets/controls",
            "layout": "IPY_MODEL_48f6b73312a947108698157fb0dafbb4",
            "icon": "upload"
          }
        },
        "e2825c6d8c924709b331d266a4e304fa": {
          "model_module": "@jupyter-widgets/controls",
          "model_name": "ButtonStyleModel",
          "state": {
            "_view_name": "StyleView",
            "_model_name": "ButtonStyleModel",
            "_view_module": "@jupyter-widgets/base",
            "_model_module_version": "1.5.0",
            "_view_count": null,
            "button_color": null,
            "font_weight": "",
            "_view_module_version": "1.2.0",
            "_model_module": "@jupyter-widgets/controls"
          }
        },
        "48f6b73312a947108698157fb0dafbb4": {
          "model_module": "@jupyter-widgets/base",
          "model_name": "LayoutModel",
          "state": {
            "_view_name": "LayoutView",
            "grid_template_rows": null,
            "right": null,
            "justify_content": null,
            "_view_module": "@jupyter-widgets/base",
            "overflow": null,
            "_model_module_version": "1.2.0",
            "_view_count": null,
            "flex_flow": null,
            "width": null,
            "min_width": null,
            "border": null,
            "align_items": null,
            "bottom": null,
            "_model_module": "@jupyter-widgets/base",
            "top": null,
            "grid_column": null,
            "overflow_y": null,
            "overflow_x": null,
            "grid_auto_flow": null,
            "grid_area": null,
            "grid_template_columns": null,
            "flex": null,
            "_model_name": "LayoutModel",
            "justify_items": null,
            "grid_row": null,
            "max_height": null,
            "align_content": null,
            "visibility": null,
            "align_self": null,
            "height": null,
            "min_height": null,
            "padding": null,
            "grid_auto_rows": null,
            "grid_gap": null,
            "max_width": null,
            "order": null,
            "_view_module_version": "1.2.0",
            "grid_template_areas": null,
            "object_position": null,
            "object_fit": null,
            "grid_auto_columns": null,
            "margin": null,
            "display": null,
            "left": null
          }
        },
        "62c22f44cfdd4a26845e263361659941": {
          "model_module": "@jupyter-widgets/output",
          "model_name": "OutputModel",
          "state": {
            "_view_name": "OutputView",
            "msg_id": "",
            "_dom_classes": [],
            "_model_name": "OutputModel",
            "outputs": [
              {
                "output_type": "display_data",
                "metadata": {
                  "tags": []
                },
                "image/png": "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\n",
                "text/plain": "<PIL.Image.Image image mode=RGB size=100x100 at 0x7FE8BBB96F28>"
              }
            ],
            "_view_module": "@jupyter-widgets/output",
            "_model_module_version": "1.0.0",
            "_view_count": null,
            "_view_module_version": "1.0.0",
            "layout": "IPY_MODEL_0209fa4bc0c9443991b5543798d367f9",
            "_model_module": "@jupyter-widgets/output"
          }
        },
        "0209fa4bc0c9443991b5543798d367f9": {
          "model_module": "@jupyter-widgets/base",
          "model_name": "LayoutModel",
          "state": {
            "_view_name": "LayoutView",
            "grid_template_rows": null,
            "right": null,
            "justify_content": null,
            "_view_module": "@jupyter-widgets/base",
            "overflow": null,
            "_model_module_version": "1.2.0",
            "_view_count": null,
            "flex_flow": null,
            "width": null,
            "min_width": null,
            "border": null,
            "align_items": null,
            "bottom": null,
            "_model_module": "@jupyter-widgets/base",
            "top": null,
            "grid_column": null,
            "overflow_y": null,
            "overflow_x": null,
            "grid_auto_flow": null,
            "grid_area": null,
            "grid_template_columns": null,
            "flex": null,
            "_model_name": "LayoutModel",
            "justify_items": null,
            "grid_row": null,
            "max_height": null,
            "align_content": null,
            "visibility": null,
            "align_self": null,
            "height": null,
            "min_height": null,
            "padding": null,
            "grid_auto_rows": null,
            "grid_gap": null,
            "max_width": null,
            "order": null,
            "_view_module_version": "1.2.0",
            "grid_template_areas": null,
            "object_position": null,
            "object_fit": null,
            "grid_auto_columns": null,
            "margin": null,
            "display": null,
            "left": null
          }
        },
        "583677cb8c9945d49ea6d85ee1b0771f": {
          "model_module": "@jupyter-widgets/controls",
          "model_name": "LabelModel",
          "state": {
            "_view_name": "LabelView",
            "style": "IPY_MODEL_71f90ba6f591481c8afaf199fe91eaf9",
            "_dom_classes": [],
            "description": "",
            "_model_name": "LabelModel",
            "placeholder": "​",
            "_view_module": "@jupyter-widgets/controls",
            "_model_module_version": "1.5.0",
            "value": "Prediction: Bishop; Probability: 1.0000",
            "_view_count": null,
            "_view_module_version": "1.5.0",
            "description_tooltip": null,
            "_model_module": "@jupyter-widgets/controls",
            "layout": "IPY_MODEL_5fac7d4e87ef4d45a063d457af3f9ed3"
          }
        },
        "71f90ba6f591481c8afaf199fe91eaf9": {
          "model_module": "@jupyter-widgets/controls",
          "model_name": "DescriptionStyleModel",
          "state": {
            "_view_name": "StyleView",
            "_model_name": "DescriptionStyleModel",
            "description_width": "",
            "_view_module": "@jupyter-widgets/base",
            "_model_module_version": "1.5.0",
            "_view_count": null,
            "_view_module_version": "1.2.0",
            "_model_module": "@jupyter-widgets/controls"
          }
        },
        "5fac7d4e87ef4d45a063d457af3f9ed3": {
          "model_module": "@jupyter-widgets/base",
          "model_name": "LayoutModel",
          "state": {
            "_view_name": "LayoutView",
            "grid_template_rows": null,
            "right": null,
            "justify_content": null,
            "_view_module": "@jupyter-widgets/base",
            "overflow": null,
            "_model_module_version": "1.2.0",
            "_view_count": null,
            "flex_flow": null,
            "width": null,
            "min_width": null,
            "border": null,
            "align_items": null,
            "bottom": null,
            "_model_module": "@jupyter-widgets/base",
            "top": null,
            "grid_column": null,
            "overflow_y": null,
            "overflow_x": null,
            "grid_auto_flow": null,
            "grid_area": null,
            "grid_template_columns": null,
            "flex": null,
            "_model_name": "LayoutModel",
            "justify_items": null,
            "grid_row": null,
            "max_height": null,
            "align_content": null,
            "visibility": null,
            "align_self": null,
            "height": null,
            "min_height": null,
            "padding": null,
            "grid_auto_rows": null,
            "grid_gap": null,
            "max_width": null,
            "order": null,
            "_view_module_version": "1.2.0",
            "grid_template_areas": null,
            "object_position": null,
            "object_fit": null,
            "grid_auto_columns": null,
            "margin": null,
            "display": null,
            "left": null
          }
        },
        "52b516d603bb4fa7aae587e1c24c0edf": {
          "model_module": "@jupyter-widgets/controls",
          "model_name": "ButtonModel",
          "state": {
            "_view_name": "ButtonView",
            "style": "IPY_MODEL_db2ba242da9c466e8186fabb3f9927ba",
            "_dom_classes": [],
            "description": "Classify",
            "_model_name": "ButtonModel",
            "button_style": "",
            "_view_module": "@jupyter-widgets/controls",
            "_model_module_version": "1.5.0",
            "tooltip": "",
            "_view_count": null,
            "disabled": false,
            "_view_module_version": "1.5.0",
            "layout": "IPY_MODEL_c9b70888c35f4c00ad88f683490c2079",
            "_model_module": "@jupyter-widgets/controls",
            "icon": ""
          }
        },
        "db2ba242da9c466e8186fabb3f9927ba": {
          "model_module": "@jupyter-widgets/controls",
          "model_name": "ButtonStyleModel",
          "state": {
            "_view_name": "StyleView",
            "_model_name": "ButtonStyleModel",
            "_view_module": "@jupyter-widgets/base",
            "_model_module_version": "1.5.0",
            "_view_count": null,
            "button_color": null,
            "font_weight": "",
            "_view_module_version": "1.2.0",
            "_model_module": "@jupyter-widgets/controls"
          }
        },
        "c9b70888c35f4c00ad88f683490c2079": {
          "model_module": "@jupyter-widgets/base",
          "model_name": "LayoutModel",
          "state": {
            "_view_name": "LayoutView",
            "grid_template_rows": null,
            "right": null,
            "justify_content": null,
            "_view_module": "@jupyter-widgets/base",
            "overflow": null,
            "_model_module_version": "1.2.0",
            "_view_count": null,
            "flex_flow": null,
            "width": null,
            "min_width": null,
            "border": null,
            "align_items": null,
            "bottom": null,
            "_model_module": "@jupyter-widgets/base",
            "top": null,
            "grid_column": null,
            "overflow_y": null,
            "overflow_x": null,
            "grid_auto_flow": null,
            "grid_area": null,
            "grid_template_columns": null,
            "flex": null,
            "_model_name": "LayoutModel",
            "justify_items": null,
            "grid_row": null,
            "max_height": null,
            "align_content": null,
            "visibility": null,
            "align_self": null,
            "height": null,
            "min_height": null,
            "padding": null,
            "grid_auto_rows": null,
            "grid_gap": null,
            "max_width": null,
            "order": null,
            "_view_module_version": "1.2.0",
            "grid_template_areas": null,
            "object_position": null,
            "object_fit": null,
            "grid_auto_columns": null,
            "margin": null,
            "display": null,
            "left": null
          }
        },
        "0d45fd61956f44278d876a4a45200a96": {
          "model_module": "@jupyter-widgets/controls",
          "model_name": "VBoxModel",
          "state": {
            "_view_name": "VBoxView",
            "_dom_classes": [],
            "_model_name": "VBoxModel",
            "_view_module": "@jupyter-widgets/controls",
            "_model_module_version": "1.5.0",
            "_view_count": null,
            "_view_module_version": "1.5.0",
            "box_style": "",
            "layout": "IPY_MODEL_ad7b70b437ec496285d4dcec59b34106",
            "_model_module": "@jupyter-widgets/controls",
            "children": [
              "IPY_MODEL_eab89ae20f17415c98193030c17e3c6f",
              "IPY_MODEL_002c9010939d43249fe361f03158ee47",
              "IPY_MODEL_52b516d603bb4fa7aae587e1c24c0edf",
              "IPY_MODEL_62c22f44cfdd4a26845e263361659941",
              "IPY_MODEL_583677cb8c9945d49ea6d85ee1b0771f"
            ]
          }
        },
        "ad7b70b437ec496285d4dcec59b34106": {
          "model_module": "@jupyter-widgets/base",
          "model_name": "LayoutModel",
          "state": {
            "_view_name": "LayoutView",
            "grid_template_rows": null,
            "right": null,
            "justify_content": null,
            "_view_module": "@jupyter-widgets/base",
            "overflow": null,
            "_model_module_version": "1.2.0",
            "_view_count": null,
            "flex_flow": null,
            "width": null,
            "min_width": null,
            "border": null,
            "align_items": null,
            "bottom": null,
            "_model_module": "@jupyter-widgets/base",
            "top": null,
            "grid_column": null,
            "overflow_y": null,
            "overflow_x": null,
            "grid_auto_flow": null,
            "grid_area": null,
            "grid_template_columns": null,
            "flex": null,
            "_model_name": "LayoutModel",
            "justify_items": null,
            "grid_row": null,
            "max_height": null,
            "align_content": null,
            "visibility": null,
            "align_self": null,
            "height": null,
            "min_height": null,
            "padding": null,
            "grid_auto_rows": null,
            "grid_gap": null,
            "max_width": null,
            "order": null,
            "_view_module_version": "1.2.0",
            "grid_template_areas": null,
            "object_position": null,
            "object_fit": null,
            "grid_auto_columns": null,
            "margin": null,
            "display": null,
            "left": null
          }
        },
        "eab89ae20f17415c98193030c17e3c6f": {
          "model_module": "@jupyter-widgets/controls",
          "model_name": "LabelModel",
          "state": {
            "_view_name": "LabelView",
            "style": "IPY_MODEL_9c2f396660c747ff863f5ae02f61176e",
            "_dom_classes": [],
            "description": "",
            "_model_name": "LabelModel",
            "placeholder": "​",
            "_view_module": "@jupyter-widgets/controls",
            "_model_module_version": "1.5.0",
            "value": "Select your piece!",
            "_view_count": null,
            "_view_module_version": "1.5.0",
            "description_tooltip": null,
            "_model_module": "@jupyter-widgets/controls",
            "layout": "IPY_MODEL_9b6f3d1545734b1f898bdc04f8643426"
          }
        },
        "002c9010939d43249fe361f03158ee47": {
          "model_module": "@jupyter-widgets/controls",
          "model_name": "FileUploadModel",
          "state": {
            "_view_name": "FileUploadView",
            "_counter": 0,
            "style": "IPY_MODEL_8818e91c764445d69f2940351eb52df8",
            "_dom_classes": [],
            "description": "Upload",
            "multiple": false,
            "_model_name": "FileUploadModel",
            "data": [],
            "button_style": "",
            "_view_module": "@jupyter-widgets/controls",
            "_model_module_version": "1.5.0",
            "accept": "",
            "_view_count": null,
            "disabled": false,
            "_view_module_version": "1.5.0",
            "error": "",
            "description_tooltip": null,
            "metadata": [],
            "_model_module": "@jupyter-widgets/controls",
            "layout": "IPY_MODEL_e5dec3f090974d38a101b796688b7d68",
            "icon": "upload"
          }
        },
        "9c2f396660c747ff863f5ae02f61176e": {
          "model_module": "@jupyter-widgets/controls",
          "model_name": "DescriptionStyleModel",
          "state": {
            "_view_name": "StyleView",
            "_model_name": "DescriptionStyleModel",
            "description_width": "",
            "_view_module": "@jupyter-widgets/base",
            "_model_module_version": "1.5.0",
            "_view_count": null,
            "_view_module_version": "1.2.0",
            "_model_module": "@jupyter-widgets/controls"
          }
        },
        "9b6f3d1545734b1f898bdc04f8643426": {
          "model_module": "@jupyter-widgets/base",
          "model_name": "LayoutModel",
          "state": {
            "_view_name": "LayoutView",
            "grid_template_rows": null,
            "right": null,
            "justify_content": null,
            "_view_module": "@jupyter-widgets/base",
            "overflow": null,
            "_model_module_version": "1.2.0",
            "_view_count": null,
            "flex_flow": null,
            "width": null,
            "min_width": null,
            "border": null,
            "align_items": null,
            "bottom": null,
            "_model_module": "@jupyter-widgets/base",
            "top": null,
            "grid_column": null,
            "overflow_y": null,
            "overflow_x": null,
            "grid_auto_flow": null,
            "grid_area": null,
            "grid_template_columns": null,
            "flex": null,
            "_model_name": "LayoutModel",
            "justify_items": null,
            "grid_row": null,
            "max_height": null,
            "align_content": null,
            "visibility": null,
            "align_self": null,
            "height": null,
            "min_height": null,
            "padding": null,
            "grid_auto_rows": null,
            "grid_gap": null,
            "max_width": null,
            "order": null,
            "_view_module_version": "1.2.0",
            "grid_template_areas": null,
            "object_position": null,
            "object_fit": null,
            "grid_auto_columns": null,
            "margin": null,
            "display": null,
            "left": null
          }
        },
        "8818e91c764445d69f2940351eb52df8": {
          "model_module": "@jupyter-widgets/controls",
          "model_name": "ButtonStyleModel",
          "state": {
            "_view_name": "StyleView",
            "_model_name": "ButtonStyleModel",
            "_view_module": "@jupyter-widgets/base",
            "_model_module_version": "1.5.0",
            "_view_count": null,
            "button_color": null,
            "font_weight": "",
            "_view_module_version": "1.2.0",
            "_model_module": "@jupyter-widgets/controls"
          }
        },
        "e5dec3f090974d38a101b796688b7d68": {
          "model_module": "@jupyter-widgets/base",
          "model_name": "LayoutModel",
          "state": {
            "_view_name": "LayoutView",
            "grid_template_rows": null,
            "right": null,
            "justify_content": null,
            "_view_module": "@jupyter-widgets/base",
            "overflow": null,
            "_model_module_version": "1.2.0",
            "_view_count": null,
            "flex_flow": null,
            "width": null,
            "min_width": null,
            "border": null,
            "align_items": null,
            "bottom": null,
            "_model_module": "@jupyter-widgets/base",
            "top": null,
            "grid_column": null,
            "overflow_y": null,
            "overflow_x": null,
            "grid_auto_flow": null,
            "grid_area": null,
            "grid_template_columns": null,
            "flex": null,
            "_model_name": "LayoutModel",
            "justify_items": null,
            "grid_row": null,
            "max_height": null,
            "align_content": null,
            "visibility": null,
            "align_self": null,
            "height": null,
            "min_height": null,
            "padding": null,
            "grid_auto_rows": null,
            "grid_gap": null,
            "max_width": null,
            "order": null,
            "_view_module_version": "1.2.0",
            "grid_template_areas": null,
            "object_position": null,
            "object_fit": null,
            "grid_auto_columns": null,
            "margin": null,
            "display": null,
            "left": null
          }
        }
      }
    }
  },
  "cells": [
    {
      "cell_type": "markdown",
      "metadata": {
        "id": "view-in-github",
        "colab_type": "text"
      },
      "source": [
        "<a href=\"https://colab.research.google.com/github/hkburwell/Chess-Piece-ID/blob/main/ChessPieceIDLite.ipynb\" target=\"_parent\"><img src=\"https://colab.research.google.com/assets/colab-badge.svg\" alt=\"Open In Colab\"/></a>"
      ]
    },
    {
      "cell_type": "code",
      "metadata": {
        "id": "PioXtujHBnn9"
      },
      "source": [
        "!pip install fastai --upgrade -q"
      ],
      "execution_count": 1,
      "outputs": []
    },
    {
      "cell_type": "code",
      "metadata": {
        "id": "gg3Dl_uvZJOe"
      },
      "source": [
        "!pip install -Uqq fastbook"
      ],
      "execution_count": 2,
      "outputs": []
    },
    {
      "cell_type": "code",
      "metadata": {
        "id": "CqPtMtIxaUXf"
      },
      "source": [
        "import fastbook\n"
      ],
      "execution_count": 3,
      "outputs": []
    },
    {
      "cell_type": "code",
      "metadata": {
        "id": "-fUu2flm2571"
      },
      "source": [
        "import torchvision"
      ],
      "execution_count": 4,
      "outputs": []
    },
    {
      "cell_type": "code",
      "metadata": {
        "id": "VoGr_flAsPVS"
      },
      "source": [
        "import warnings\n",
        "warnings.simplefilter(\"ignore\", UserWarning)"
      ],
      "execution_count": 5,
      "outputs": []
    },
    {
      "cell_type": "code",
      "metadata": {
        "id": "X7xiKfySSsvF",
        "outputId": "6b3921ae-818f-4a96-b7ea-889c8b5130f0",
        "colab": {
          "base_uri": "https://localhost:8080/",
          "height": 34
        }
      },
      "source": [
        "import os\n",
        "from google.colab import drive \n",
        "drive.mount('/content/drive')"
      ],
      "execution_count": 6,
      "outputs": [
        {
          "output_type": "stream",
          "text": [
            "Drive already mounted at /content/drive; to attempt to forcibly remount, call drive.mount(\"/content/drive\", force_remount=True).\n"
          ],
          "name": "stdout"
        }
      ]
    },
    {
      "cell_type": "code",
      "metadata": {
        "id": "Sxgv-CWE-81T"
      },
      "source": [
        "#fastbook.setup_book()\n",
        "from fastbook import *\n",
        "from fastai.vision.widgets import *"
      ],
      "execution_count": 7,
      "outputs": []
    },
    {
      "cell_type": "code",
      "metadata": {
        "id": "h2gncn0_Mpsu"
      },
      "source": [
        "from PIL import Image"
      ],
      "execution_count": 8,
      "outputs": []
    },
    {
      "cell_type": "code",
      "metadata": {
        "id": "WblJmDJZgZCJ",
        "outputId": "044350fe-5f22-4ecc-9bde-96a369acd85b",
        "colab": {
          "base_uri": "https://localhost:8080/",
          "height": 34
        }
      },
      "source": [
        "#Changing directory to My Drive\n",
        "os.chdir('/content/drive/My Drive/Pieces')\n",
        "!ls\n",
        "path = '/content/drive/My Drive/Pieces'"
      ],
      "execution_count": 9,
      "outputs": [
        {
          "output_type": "stream",
          "text": [
            "Bishop\texport.pkl  King  Knight  models  Pawn\tQueen  Rook\n"
          ],
          "name": "stdout"
        }
      ]
    },
    {
      "cell_type": "code",
      "metadata": {
        "id": "D49kWeA1ldPt",
        "outputId": "463ae2f4-53b8-4956-b5b1-0f7baf1153df",
        "colab": {
          "base_uri": "https://localhost:8080/",
          "height": 34
        }
      },
      "source": [
        "path = Path()\n",
        "path.ls(file_exts='.pkl')"
      ],
      "execution_count": 10,
      "outputs": [
        {
          "output_type": "execute_result",
          "data": {
            "text/plain": [
              "(#1) [Path('export.pkl')]"
            ]
          },
          "metadata": {
            "tags": []
          },
          "execution_count": 10
        }
      ]
    },
    {
      "cell_type": "code",
      "metadata": {
        "id": "NxLvIL1mldMg"
      },
      "source": [
        "learn_inf = load_learner(path/'export.pkl')"
      ],
      "execution_count": 11,
      "outputs": []
    },
    {
      "cell_type": "code",
      "metadata": {
        "id": "suXDZmKSgHg3",
        "outputId": "d18a4409-f6d7-4706-a019-1eecda3fdc34",
        "colab": {
          "base_uri": "https://localhost:8080/",
          "height": 49,
          "referenced_widgets": [
            "9636f3de79064246a60bfbd3e59873af",
            "e2825c6d8c924709b331d266a4e304fa",
            "48f6b73312a947108698157fb0dafbb4"
          ]
        }
      },
      "source": [
        "#Now, we wish to turn this into an interactive app of sorts\n",
        "#We start with a button:\n",
        "btn_upload = widgets.FileUpload()\n",
        "btn_upload"
      ],
      "execution_count": 12,
      "outputs": [
        {
          "output_type": "display_data",
          "data": {
            "application/vnd.jupyter.widget-view+json": {
              "model_id": "9636f3de79064246a60bfbd3e59873af",
              "version_minor": 0,
              "version_major": 2
            },
            "text/plain": [
              "FileUpload(value={}, description='Upload')"
            ]
          },
          "metadata": {
            "tags": []
          }
        }
      ]
    },
    {
      "cell_type": "code",
      "metadata": {
        "id": "RFFsHA8AgHse"
      },
      "source": [
        "img = PILImage.create(btn_upload.data[-1])"
      ],
      "execution_count": 14,
      "outputs": []
    },
    {
      "cell_type": "code",
      "metadata": {
        "id": "B-jEektigH2L",
        "outputId": "b6b925ef-1988-4527-f780-5c5a785bbc99",
        "colab": {
          "base_uri": "https://localhost:8080/",
          "height": 117,
          "referenced_widgets": [
            "62c22f44cfdd4a26845e263361659941",
            "0209fa4bc0c9443991b5543798d367f9"
          ]
        }
      },
      "source": [
        "out_pl = widgets.Output()\n",
        "out_pl.clear_output()\n",
        "with out_pl: display(img.to_thumb(128,128))\n",
        "out_pl"
      ],
      "execution_count": 15,
      "outputs": [
        {
          "output_type": "display_data",
          "data": {
            "application/vnd.jupyter.widget-view+json": {
              "model_id": "62c22f44cfdd4a26845e263361659941",
              "version_minor": 0,
              "version_major": 2
            },
            "text/plain": [
              "Output()"
            ]
          },
          "metadata": {
            "tags": []
          }
        }
      ]
    },
    {
      "cell_type": "code",
      "metadata": {
        "id": "fKeyP_55hDWZ",
        "outputId": "cf2fb9f8-0a44-473d-907f-7b6d5df08773",
        "colab": {
          "base_uri": "https://localhost:8080/",
          "height": 17
        }
      },
      "source": [
        "pred,pred_idx,probs = learn_inf.predict(img)"
      ],
      "execution_count": 16,
      "outputs": [
        {
          "output_type": "display_data",
          "data": {
            "text/html": [
              ""
            ],
            "text/plain": [
              "<IPython.core.display.HTML object>"
            ]
          },
          "metadata": {
            "tags": []
          }
        }
      ]
    },
    {
      "cell_type": "code",
      "metadata": {
        "id": "T7tJZ_aKhEHY",
        "outputId": "46f4bb9f-e95f-49e6-cee1-ca09183c48c8",
        "colab": {
          "base_uri": "https://localhost:8080/",
          "height": 49,
          "referenced_widgets": [
            "583677cb8c9945d49ea6d85ee1b0771f",
            "71f90ba6f591481c8afaf199fe91eaf9",
            "5fac7d4e87ef4d45a063d457af3f9ed3"
          ]
        }
      },
      "source": [
        "lbl_pred = widgets.Label()\n",
        "lbl_pred.value = f'Prediction: {pred}; Probability: {probs[pred_idx]:.04f}'\n",
        "lbl_pred"
      ],
      "execution_count": 17,
      "outputs": [
        {
          "output_type": "display_data",
          "data": {
            "application/vnd.jupyter.widget-view+json": {
              "model_id": "583677cb8c9945d49ea6d85ee1b0771f",
              "version_minor": 0,
              "version_major": 2
            },
            "text/plain": [
              "Label(value='Prediction: Bishop; Probability: 1.0000')"
            ]
          },
          "metadata": {
            "tags": []
          }
        }
      ]
    },
    {
      "cell_type": "code",
      "metadata": {
        "id": "h_jgmT8qhNSE",
        "outputId": "7f85b30b-0c44-4a12-f0ec-d7216b6eb8c2",
        "colab": {
          "base_uri": "https://localhost:8080/",
          "height": 49,
          "referenced_widgets": [
            "52b516d603bb4fa7aae587e1c24c0edf",
            "db2ba242da9c466e8186fabb3f9927ba",
            "c9b70888c35f4c00ad88f683490c2079"
          ]
        }
      },
      "source": [
        "btn_run = widgets.Button(description='Classify')\n",
        "btn_run"
      ],
      "execution_count": 18,
      "outputs": [
        {
          "output_type": "display_data",
          "data": {
            "application/vnd.jupyter.widget-view+json": {
              "model_id": "52b516d603bb4fa7aae587e1c24c0edf",
              "version_minor": 0,
              "version_major": 2
            },
            "text/plain": [
              "Button(description='Classify', style=ButtonStyle())"
            ]
          },
          "metadata": {
            "tags": []
          }
        }
      ]
    },
    {
      "cell_type": "code",
      "metadata": {
        "id": "BoxKj9y4hPj2"
      },
      "source": [
        "def on_click_classify(change):\n",
        "    img = PILImage.create(btn_upload.data[-1])\n",
        "    out_pl.clear_output()\n",
        "    with out_pl: display(img.to_thumb(128,128))\n",
        "    pred,pred_idx,probs = learn_inf.predict(img)\n",
        "    lbl_pred.value = f'Prediction: {pred}; Probability: {probs[pred_idx]:.04f}'\n",
        "\n",
        "btn_run.on_click(on_click_classify)"
      ],
      "execution_count": 19,
      "outputs": []
    },
    {
      "cell_type": "code",
      "metadata": {
        "id": "ahLItfY2hPiO"
      },
      "source": [
        "#hide\n",
        "#Putting back btn_upload to a widget for next cell\n",
        "btn_upload = widgets.FileUpload()"
      ],
      "execution_count": 20,
      "outputs": []
    },
    {
      "cell_type": "code",
      "metadata": {
        "id": "eDDT_nEki71R",
        "outputId": "63a52c26-379d-4c00-c6fe-e444d33d5ed5",
        "colab": {
          "base_uri": "https://localhost:8080/",
          "height": 245,
          "referenced_widgets": [
            "0d45fd61956f44278d876a4a45200a96",
            "ad7b70b437ec496285d4dcec59b34106",
            "eab89ae20f17415c98193030c17e3c6f",
            "002c9010939d43249fe361f03158ee47",
            "52b516d603bb4fa7aae587e1c24c0edf",
            "62c22f44cfdd4a26845e263361659941",
            "583677cb8c9945d49ea6d85ee1b0771f",
            "9c2f396660c747ff863f5ae02f61176e",
            "9b6f3d1545734b1f898bdc04f8643426",
            "8818e91c764445d69f2940351eb52df8",
            "e5dec3f090974d38a101b796688b7d68",
            "db2ba242da9c466e8186fabb3f9927ba",
            "c9b70888c35f4c00ad88f683490c2079",
            "71f90ba6f591481c8afaf199fe91eaf9",
            "5fac7d4e87ef4d45a063d457af3f9ed3",
            "0209fa4bc0c9443991b5543798d367f9"
          ]
        }
      },
      "source": [
        "#hide_output\n",
        "VBox([widgets.Label('Select your piece!'), \n",
        "      btn_upload, btn_run, out_pl, lbl_pred])"
      ],
      "execution_count": 21,
      "outputs": [
        {
          "output_type": "display_data",
          "data": {
            "application/vnd.jupyter.widget-view+json": {
              "model_id": "0d45fd61956f44278d876a4a45200a96",
              "version_minor": 0,
              "version_major": 2
            },
            "text/plain": [
              "VBox(children=(Label(value='Select your piece!'), FileUpload(value={}, description='Upload'), Button(descripti…"
            ]
          },
          "metadata": {
            "tags": []
          }
        }
      ]
    },
    {
      "cell_type": "code",
      "metadata": {
        "id": "riIX6WBkpAp7"
      },
      "source": [
        "#The latest version of voila is incompatible with the latest version of nbdev (as\n",
        "# voila require nbconvert >=6 yet nbdev requires nbconvert < 6), so we install an older version of nbdev\n",
        "!pip install nbdev==1.0.16"
      ],
      "execution_count": null,
      "outputs": []
    },
    {
      "cell_type": "code",
      "metadata": {
        "id": "NQUn7FacjQbJ"
      },
      "source": [
        "!pip install voila\n",
        "!jupyter serverextension enable voila —sys-prefix"
      ],
      "execution_count": null,
      "outputs": []
    }
  ]
}