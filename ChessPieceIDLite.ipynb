{
  "nbformat": 4,
  "nbformat_minor": 0,
  "metadata": {
    "accelerator": "GPU",
    "colab": {
      "name": "ChessPieceIDLite.ipynb",
      "provenance": [],
      "collapsed_sections": [],
      "authorship_tag": "ABX9TyM5O/6y68AVsZ/LnOiIgxFW",
      "include_colab_link": true
    },
    "kernelspec": {
      "display_name": "Python 3",
      "name": "python3"
    },
    "widgets": {
      "application/vnd.jupyter.widget-state+json": {
        "1b47dd7cdcdc47a192f139a385a3aa79": {
          "model_module": "@jupyter-widgets/controls",
          "model_name": "FileUploadModel",
          "state": {
            "_view_name": "FileUploadView",
            "_counter": 1,
            "style": "IPY_MODEL_5c3d266426fb45c0a79a0f7d8c0f457c",
            "_dom_classes": [],
            "description": "Upload",
            "multiple": false,
            "_model_name": "FileUploadModel",
            "data": [
              null
            ],
            "button_style": "",
            "_view_module": "@jupyter-widgets/controls",
            "_model_module_version": "1.5.0",
            "accept": "",
            "_view_count": null,
            "disabled": false,
            "_view_module_version": "1.5.0",
            "error": "",
            "description_tooltip": null,
            "metadata": [
              {
                "name": "Bishop63.jpg",
                "type": "image/jpeg",
                "size": 11630,
                "lastModified": 1601593227470
              }
            ],
            "_model_module": "@jupyter-widgets/controls",
            "layout": "IPY_MODEL_c162a41e4d3c42d7bf1e3a275c83357e",
            "icon": "upload"
          }
        },
        "5c3d266426fb45c0a79a0f7d8c0f457c": {
          "model_module": "@jupyter-widgets/controls",
          "model_name": "ButtonStyleModel",
          "state": {
            "_view_name": "StyleView",
            "_model_name": "ButtonStyleModel",
            "_view_module": "@jupyter-widgets/base",
            "_model_module_version": "1.5.0",
            "_view_count": null,
            "button_color": null,
            "font_weight": "",
            "_view_module_version": "1.2.0",
            "_model_module": "@jupyter-widgets/controls"
          }
        },
        "c162a41e4d3c42d7bf1e3a275c83357e": {
          "model_module": "@jupyter-widgets/base",
          "model_name": "LayoutModel",
          "state": {
            "_view_name": "LayoutView",
            "grid_template_rows": null,
            "right": null,
            "justify_content": null,
            "_view_module": "@jupyter-widgets/base",
            "overflow": null,
            "_model_module_version": "1.2.0",
            "_view_count": null,
            "flex_flow": null,
            "width": null,
            "min_width": null,
            "border": null,
            "align_items": null,
            "bottom": null,
            "_model_module": "@jupyter-widgets/base",
            "top": null,
            "grid_column": null,
            "overflow_y": null,
            "overflow_x": null,
            "grid_auto_flow": null,
            "grid_area": null,
            "grid_template_columns": null,
            "flex": null,
            "_model_name": "LayoutModel",
            "justify_items": null,
            "grid_row": null,
            "max_height": null,
            "align_content": null,
            "visibility": null,
            "align_self": null,
            "height": null,
            "min_height": null,
            "padding": null,
            "grid_auto_rows": null,
            "grid_gap": null,
            "max_width": null,
            "order": null,
            "_view_module_version": "1.2.0",
            "grid_template_areas": null,
            "object_position": null,
            "object_fit": null,
            "grid_auto_columns": null,
            "margin": null,
            "display": null,
            "left": null
          }
        },
        "54c15b0525ad44f1ae86785bfacdd5e0": {
          "model_module": "@jupyter-widgets/output",
          "model_name": "OutputModel",
          "state": {
            "_view_name": "OutputView",
            "msg_id": "",
            "_dom_classes": [],
            "_model_name": "OutputModel",
            "outputs": [
              {
                "output_type": "display_data",
                "metadata": {
                  "tags": []
                },
                "image/png": "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\n",
                "text/plain": "<PIL.Image.Image image mode=RGB size=83x128 at 0x7F13E5FBAE80>"
              }
            ],
            "_view_module": "@jupyter-widgets/output",
            "_model_module_version": "1.0.0",
            "_view_count": null,
            "_view_module_version": "1.0.0",
            "layout": "IPY_MODEL_3de9f5b0644640a8b96c3b5d2072ac97",
            "_model_module": "@jupyter-widgets/output"
          }
        },
        "3de9f5b0644640a8b96c3b5d2072ac97": {
          "model_module": "@jupyter-widgets/base",
          "model_name": "LayoutModel",
          "state": {
            "_view_name": "LayoutView",
            "grid_template_rows": null,
            "right": null,
            "justify_content": null,
            "_view_module": "@jupyter-widgets/base",
            "overflow": null,
            "_model_module_version": "1.2.0",
            "_view_count": null,
            "flex_flow": null,
            "width": null,
            "min_width": null,
            "border": null,
            "align_items": null,
            "bottom": null,
            "_model_module": "@jupyter-widgets/base",
            "top": null,
            "grid_column": null,
            "overflow_y": null,
            "overflow_x": null,
            "grid_auto_flow": null,
            "grid_area": null,
            "grid_template_columns": null,
            "flex": null,
            "_model_name": "LayoutModel",
            "justify_items": null,
            "grid_row": null,
            "max_height": null,
            "align_content": null,
            "visibility": null,
            "align_self": null,
            "height": null,
            "min_height": null,
            "padding": null,
            "grid_auto_rows": null,
            "grid_gap": null,
            "max_width": null,
            "order": null,
            "_view_module_version": "1.2.0",
            "grid_template_areas": null,
            "object_position": null,
            "object_fit": null,
            "grid_auto_columns": null,
            "margin": null,
            "display": null,
            "left": null
          }
        },
        "ea563686aa7343b095e6a36aa07a0f68": {
          "model_module": "@jupyter-widgets/controls",
          "model_name": "LabelModel",
          "state": {
            "_view_name": "LabelView",
            "style": "IPY_MODEL_2d3b9a25e5c04d0cbfc3f4ba197fb4d6",
            "_dom_classes": [],
            "description": "",
            "_model_name": "LabelModel",
            "placeholder": "​",
            "_view_module": "@jupyter-widgets/controls",
            "_model_module_version": "1.5.0",
            "value": "Prediction: Bishop; Probability: 0.9995",
            "_view_count": null,
            "_view_module_version": "1.5.0",
            "description_tooltip": null,
            "_model_module": "@jupyter-widgets/controls",
            "layout": "IPY_MODEL_fa29fdb221a548eca74e055f6b6e5bf6"
          }
        },
        "2d3b9a25e5c04d0cbfc3f4ba197fb4d6": {
          "model_module": "@jupyter-widgets/controls",
          "model_name": "DescriptionStyleModel",
          "state": {
            "_view_name": "StyleView",
            "_model_name": "DescriptionStyleModel",
            "description_width": "",
            "_view_module": "@jupyter-widgets/base",
            "_model_module_version": "1.5.0",
            "_view_count": null,
            "_view_module_version": "1.2.0",
            "_model_module": "@jupyter-widgets/controls"
          }
        },
        "fa29fdb221a548eca74e055f6b6e5bf6": {
          "model_module": "@jupyter-widgets/base",
          "model_name": "LayoutModel",
          "state": {
            "_view_name": "LayoutView",
            "grid_template_rows": null,
            "right": null,
            "justify_content": null,
            "_view_module": "@jupyter-widgets/base",
            "overflow": null,
            "_model_module_version": "1.2.0",
            "_view_count": null,
            "flex_flow": null,
            "width": null,
            "min_width": null,
            "border": null,
            "align_items": null,
            "bottom": null,
            "_model_module": "@jupyter-widgets/base",
            "top": null,
            "grid_column": null,
            "overflow_y": null,
            "overflow_x": null,
            "grid_auto_flow": null,
            "grid_area": null,
            "grid_template_columns": null,
            "flex": null,
            "_model_name": "LayoutModel",
            "justify_items": null,
            "grid_row": null,
            "max_height": null,
            "align_content": null,
            "visibility": null,
            "align_self": null,
            "height": null,
            "min_height": null,
            "padding": null,
            "grid_auto_rows": null,
            "grid_gap": null,
            "max_width": null,
            "order": null,
            "_view_module_version": "1.2.0",
            "grid_template_areas": null,
            "object_position": null,
            "object_fit": null,
            "grid_auto_columns": null,
            "margin": null,
            "display": null,
            "left": null
          }
        },
        "048dba93ce8d461fbaf027635ae241b2": {
          "model_module": "@jupyter-widgets/controls",
          "model_name": "ButtonModel",
          "state": {
            "_view_name": "ButtonView",
            "style": "IPY_MODEL_4cecdbb0666e4687a1881abdd21b31cb",
            "_dom_classes": [],
            "description": "Classify",
            "_model_name": "ButtonModel",
            "button_style": "",
            "_view_module": "@jupyter-widgets/controls",
            "_model_module_version": "1.5.0",
            "tooltip": "",
            "_view_count": null,
            "disabled": false,
            "_view_module_version": "1.5.0",
            "layout": "IPY_MODEL_8ac75b2b74c94717ae905c576e4a9540",
            "_model_module": "@jupyter-widgets/controls",
            "icon": ""
          }
        },
        "4cecdbb0666e4687a1881abdd21b31cb": {
          "model_module": "@jupyter-widgets/controls",
          "model_name": "ButtonStyleModel",
          "state": {
            "_view_name": "StyleView",
            "_model_name": "ButtonStyleModel",
            "_view_module": "@jupyter-widgets/base",
            "_model_module_version": "1.5.0",
            "_view_count": null,
            "button_color": null,
            "font_weight": "",
            "_view_module_version": "1.2.0",
            "_model_module": "@jupyter-widgets/controls"
          }
        },
        "8ac75b2b74c94717ae905c576e4a9540": {
          "model_module": "@jupyter-widgets/base",
          "model_name": "LayoutModel",
          "state": {
            "_view_name": "LayoutView",
            "grid_template_rows": null,
            "right": null,
            "justify_content": null,
            "_view_module": "@jupyter-widgets/base",
            "overflow": null,
            "_model_module_version": "1.2.0",
            "_view_count": null,
            "flex_flow": null,
            "width": null,
            "min_width": null,
            "border": null,
            "align_items": null,
            "bottom": null,
            "_model_module": "@jupyter-widgets/base",
            "top": null,
            "grid_column": null,
            "overflow_y": null,
            "overflow_x": null,
            "grid_auto_flow": null,
            "grid_area": null,
            "grid_template_columns": null,
            "flex": null,
            "_model_name": "LayoutModel",
            "justify_items": null,
            "grid_row": null,
            "max_height": null,
            "align_content": null,
            "visibility": null,
            "align_self": null,
            "height": null,
            "min_height": null,
            "padding": null,
            "grid_auto_rows": null,
            "grid_gap": null,
            "max_width": null,
            "order": null,
            "_view_module_version": "1.2.0",
            "grid_template_areas": null,
            "object_position": null,
            "object_fit": null,
            "grid_auto_columns": null,
            "margin": null,
            "display": null,
            "left": null
          }
        },
        "c86454cec4a747fab8e92a7e4cdb0812": {
          "model_module": "@jupyter-widgets/controls",
          "model_name": "VBoxModel",
          "state": {
            "_view_name": "VBoxView",
            "_dom_classes": [],
            "_model_name": "VBoxModel",
            "_view_module": "@jupyter-widgets/controls",
            "_model_module_version": "1.5.0",
            "_view_count": null,
            "_view_module_version": "1.5.0",
            "box_style": "",
            "layout": "IPY_MODEL_4c73388b772a4b77919c3eba89e7433f",
            "_model_module": "@jupyter-widgets/controls",
            "children": [
              "IPY_MODEL_62380057b68e43c3abda5b4f6d106e98",
              "IPY_MODEL_e39da61f701d447092a0f7bc8e440a4d",
              "IPY_MODEL_048dba93ce8d461fbaf027635ae241b2",
              "IPY_MODEL_54c15b0525ad44f1ae86785bfacdd5e0",
              "IPY_MODEL_ea563686aa7343b095e6a36aa07a0f68"
            ]
          }
        },
        "4c73388b772a4b77919c3eba89e7433f": {
          "model_module": "@jupyter-widgets/base",
          "model_name": "LayoutModel",
          "state": {
            "_view_name": "LayoutView",
            "grid_template_rows": null,
            "right": null,
            "justify_content": null,
            "_view_module": "@jupyter-widgets/base",
            "overflow": null,
            "_model_module_version": "1.2.0",
            "_view_count": null,
            "flex_flow": null,
            "width": null,
            "min_width": null,
            "border": null,
            "align_items": null,
            "bottom": null,
            "_model_module": "@jupyter-widgets/base",
            "top": null,
            "grid_column": null,
            "overflow_y": null,
            "overflow_x": null,
            "grid_auto_flow": null,
            "grid_area": null,
            "grid_template_columns": null,
            "flex": null,
            "_model_name": "LayoutModel",
            "justify_items": null,
            "grid_row": null,
            "max_height": null,
            "align_content": null,
            "visibility": null,
            "align_self": null,
            "height": null,
            "min_height": null,
            "padding": null,
            "grid_auto_rows": null,
            "grid_gap": null,
            "max_width": null,
            "order": null,
            "_view_module_version": "1.2.0",
            "grid_template_areas": null,
            "object_position": null,
            "object_fit": null,
            "grid_auto_columns": null,
            "margin": null,
            "display": null,
            "left": null
          }
        },
        "62380057b68e43c3abda5b4f6d106e98": {
          "model_module": "@jupyter-widgets/controls",
          "model_name": "LabelModel",
          "state": {
            "_view_name": "LabelView",
            "style": "IPY_MODEL_e0704d77c28e4a1ca388d05c788057ed",
            "_dom_classes": [],
            "description": "",
            "_model_name": "LabelModel",
            "placeholder": "​",
            "_view_module": "@jupyter-widgets/controls",
            "_model_module_version": "1.5.0",
            "value": "Select your piece!",
            "_view_count": null,
            "_view_module_version": "1.5.0",
            "description_tooltip": null,
            "_model_module": "@jupyter-widgets/controls",
            "layout": "IPY_MODEL_ba9b6938941f482589289e27acb05db5"
          }
        },
        "e39da61f701d447092a0f7bc8e440a4d": {
          "model_module": "@jupyter-widgets/controls",
          "model_name": "FileUploadModel",
          "state": {
            "_view_name": "FileUploadView",
            "_counter": 0,
            "style": "IPY_MODEL_72ae10d50f7c40f7aa55f4ca56a10185",
            "_dom_classes": [],
            "description": "Upload",
            "multiple": false,
            "_model_name": "FileUploadModel",
            "data": [],
            "button_style": "",
            "_view_module": "@jupyter-widgets/controls",
            "_model_module_version": "1.5.0",
            "accept": "",
            "_view_count": null,
            "disabled": false,
            "_view_module_version": "1.5.0",
            "error": "",
            "description_tooltip": null,
            "metadata": [],
            "_model_module": "@jupyter-widgets/controls",
            "layout": "IPY_MODEL_47e17ea8e2c94c3789d4dd8b54463c05",
            "icon": "upload"
          }
        },
        "e0704d77c28e4a1ca388d05c788057ed": {
          "model_module": "@jupyter-widgets/controls",
          "model_name": "DescriptionStyleModel",
          "state": {
            "_view_name": "StyleView",
            "_model_name": "DescriptionStyleModel",
            "description_width": "",
            "_view_module": "@jupyter-widgets/base",
            "_model_module_version": "1.5.0",
            "_view_count": null,
            "_view_module_version": "1.2.0",
            "_model_module": "@jupyter-widgets/controls"
          }
        },
        "ba9b6938941f482589289e27acb05db5": {
          "model_module": "@jupyter-widgets/base",
          "model_name": "LayoutModel",
          "state": {
            "_view_name": "LayoutView",
            "grid_template_rows": null,
            "right": null,
            "justify_content": null,
            "_view_module": "@jupyter-widgets/base",
            "overflow": null,
            "_model_module_version": "1.2.0",
            "_view_count": null,
            "flex_flow": null,
            "width": null,
            "min_width": null,
            "border": null,
            "align_items": null,
            "bottom": null,
            "_model_module": "@jupyter-widgets/base",
            "top": null,
            "grid_column": null,
            "overflow_y": null,
            "overflow_x": null,
            "grid_auto_flow": null,
            "grid_area": null,
            "grid_template_columns": null,
            "flex": null,
            "_model_name": "LayoutModel",
            "justify_items": null,
            "grid_row": null,
            "max_height": null,
            "align_content": null,
            "visibility": null,
            "align_self": null,
            "height": null,
            "min_height": null,
            "padding": null,
            "grid_auto_rows": null,
            "grid_gap": null,
            "max_width": null,
            "order": null,
            "_view_module_version": "1.2.0",
            "grid_template_areas": null,
            "object_position": null,
            "object_fit": null,
            "grid_auto_columns": null,
            "margin": null,
            "display": null,
            "left": null
          }
        },
        "72ae10d50f7c40f7aa55f4ca56a10185": {
          "model_module": "@jupyter-widgets/controls",
          "model_name": "ButtonStyleModel",
          "state": {
            "_view_name": "StyleView",
            "_model_name": "ButtonStyleModel",
            "_view_module": "@jupyter-widgets/base",
            "_model_module_version": "1.5.0",
            "_view_count": null,
            "button_color": null,
            "font_weight": "",
            "_view_module_version": "1.2.0",
            "_model_module": "@jupyter-widgets/controls"
          }
        },
        "47e17ea8e2c94c3789d4dd8b54463c05": {
          "model_module": "@jupyter-widgets/base",
          "model_name": "LayoutModel",
          "state": {
            "_view_name": "LayoutView",
            "grid_template_rows": null,
            "right": null,
            "justify_content": null,
            "_view_module": "@jupyter-widgets/base",
            "overflow": null,
            "_model_module_version": "1.2.0",
            "_view_count": null,
            "flex_flow": null,
            "width": null,
            "min_width": null,
            "border": null,
            "align_items": null,
            "bottom": null,
            "_model_module": "@jupyter-widgets/base",
            "top": null,
            "grid_column": null,
            "overflow_y": null,
            "overflow_x": null,
            "grid_auto_flow": null,
            "grid_area": null,
            "grid_template_columns": null,
            "flex": null,
            "_model_name": "LayoutModel",
            "justify_items": null,
            "grid_row": null,
            "max_height": null,
            "align_content": null,
            "visibility": null,
            "align_self": null,
            "height": null,
            "min_height": null,
            "padding": null,
            "grid_auto_rows": null,
            "grid_gap": null,
            "max_width": null,
            "order": null,
            "_view_module_version": "1.2.0",
            "grid_template_areas": null,
            "object_position": null,
            "object_fit": null,
            "grid_auto_columns": null,
            "margin": null,
            "display": null,
            "left": null
          }
        }
      }
    }
  },
  "cells": [
    {
      "cell_type": "markdown",
      "metadata": {
        "id": "view-in-github",
        "colab_type": "text"
      },
      "source": [
        "<a href=\"https://colab.research.google.com/github/hkburwell/Chess-Piece-ID/blob/main/ChessPieceIDLite.ipynb\" target=\"_parent\"><img src=\"https://colab.research.google.com/assets/colab-badge.svg\" alt=\"Open In Colab\"/></a>"
      ]
    },
    {
      "cell_type": "code",
      "metadata": {
        "id": "PioXtujHBnn9"
      },
      "source": [
        "!pip install fastai --upgrade -q"
      ],
      "execution_count": 1,
      "outputs": []
    },
    {
      "cell_type": "code",
      "metadata": {
        "id": "gg3Dl_uvZJOe"
      },
      "source": [
        "!pip install -Uqq fastbook"
      ],
      "execution_count": 2,
      "outputs": []
    },
    {
      "cell_type": "code",
      "metadata": {
        "id": "CqPtMtIxaUXf"
      },
      "source": [
        "import fastbook\n"
      ],
      "execution_count": 3,
      "outputs": []
    },
    {
      "cell_type": "code",
      "metadata": {
        "id": "-fUu2flm2571"
      },
      "source": [
        "import torchvision"
      ],
      "execution_count": 4,
      "outputs": []
    },
    {
      "cell_type": "code",
      "metadata": {
        "id": "VoGr_flAsPVS"
      },
      "source": [
        "import warnings\n",
        "warnings.simplefilter(\"ignore\", UserWarning)"
      ],
      "execution_count": 5,
      "outputs": []
    },
    {
      "cell_type": "code",
      "metadata": {
        "id": "X7xiKfySSsvF",
        "outputId": "17fefb66-1639-4095-b295-da80323ee5c9",
        "colab": {
          "base_uri": "https://localhost:8080/",
          "height": 34
        }
      },
      "source": [
        "import os\n",
        "from google.colab import drive \n",
        "drive.mount('/content/drive')"
      ],
      "execution_count": 9,
      "outputs": [
        {
          "output_type": "stream",
          "text": [
            "Drive already mounted at /content/drive; to attempt to forcibly remount, call drive.mount(\"/content/drive\", force_remount=True).\n"
          ],
          "name": "stdout"
        }
      ]
    },
    {
      "cell_type": "code",
      "metadata": {
        "id": "Sxgv-CWE-81T"
      },
      "source": [
        "#fastbook.setup_book()\n",
        "from fastbook import *\n",
        "from fastai.vision.widgets import *"
      ],
      "execution_count": 6,
      "outputs": []
    },
    {
      "cell_type": "code",
      "metadata": {
        "id": "h2gncn0_Mpsu"
      },
      "source": [
        "from PIL import Image"
      ],
      "execution_count": 7,
      "outputs": []
    },
    {
      "cell_type": "code",
      "metadata": {
        "id": "WblJmDJZgZCJ"
      },
      "source": [
        "#Changing directory to My Drive\n",
        "os.chdir('/content/drive/My Drive/Pieces')\n",
        "path = '/content/drive/My Drive/Pieces'"
      ],
      "execution_count": 10,
      "outputs": []
    },
    {
      "cell_type": "code",
      "metadata": {
        "id": "D49kWeA1ldPt",
        "outputId": "f580dc70-da0d-450a-b418-fe6b9f208ca8",
        "colab": {
          "base_uri": "https://localhost:8080/",
          "height": 34
        }
      },
      "source": [
        "path = Path()\n",
        "path.ls(file_exts='.pkl')"
      ],
      "execution_count": 11,
      "outputs": [
        {
          "output_type": "execute_result",
          "data": {
            "text/plain": [
              "(#1) [Path('export.pkl')]"
            ]
          },
          "metadata": {
            "tags": []
          },
          "execution_count": 11
        }
      ]
    },
    {
      "cell_type": "code",
      "metadata": {
        "id": "NxLvIL1mldMg"
      },
      "source": [
        "learn_inf = load_learner(path/'export.pkl',cpu=True)"
      ],
      "execution_count": 12,
      "outputs": []
    },
    {
      "cell_type": "code",
      "metadata": {
        "id": "suXDZmKSgHg3",
        "outputId": "4ad97d71-2a09-4f36-f079-8632af3163d5",
        "colab": {
          "base_uri": "https://localhost:8080/",
          "height": 49,
          "referenced_widgets": [
            "1b47dd7cdcdc47a192f139a385a3aa79",
            "5c3d266426fb45c0a79a0f7d8c0f457c",
            "c162a41e4d3c42d7bf1e3a275c83357e"
          ]
        }
      },
      "source": [
        "#Now, we wish to turn this into an interactive app of sorts\n",
        "#We start with a button:\n",
        "btn_upload = widgets.FileUpload()\n",
        "btn_upload"
      ],
      "execution_count": 13,
      "outputs": [
        {
          "output_type": "display_data",
          "data": {
            "application/vnd.jupyter.widget-view+json": {
              "model_id": "1b47dd7cdcdc47a192f139a385a3aa79",
              "version_minor": 0,
              "version_major": 2
            },
            "text/plain": [
              "FileUpload(value={}, description='Upload')"
            ]
          },
          "metadata": {
            "tags": []
          }
        }
      ]
    },
    {
      "cell_type": "code",
      "metadata": {
        "id": "RFFsHA8AgHse"
      },
      "source": [
        "img = PILImage.create(btn_upload.data[-1])"
      ],
      "execution_count": 15,
      "outputs": []
    },
    {
      "cell_type": "code",
      "metadata": {
        "id": "B-jEektigH2L",
        "outputId": "ca78aa6b-51d7-4252-edad-26be38817285",
        "colab": {
          "base_uri": "https://localhost:8080/",
          "height": 145,
          "referenced_widgets": [
            "54c15b0525ad44f1ae86785bfacdd5e0",
            "3de9f5b0644640a8b96c3b5d2072ac97"
          ]
        }
      },
      "source": [
        "out_pl = widgets.Output()\n",
        "out_pl.clear_output()\n",
        "with out_pl: display(img.to_thumb(128,128))\n",
        "out_pl"
      ],
      "execution_count": 16,
      "outputs": [
        {
          "output_type": "display_data",
          "data": {
            "application/vnd.jupyter.widget-view+json": {
              "model_id": "54c15b0525ad44f1ae86785bfacdd5e0",
              "version_minor": 0,
              "version_major": 2
            },
            "text/plain": [
              "Output()"
            ]
          },
          "metadata": {
            "tags": []
          }
        }
      ]
    },
    {
      "cell_type": "code",
      "metadata": {
        "id": "fKeyP_55hDWZ",
        "outputId": "6990f7f3-5273-40ca-e0ac-2e21163a9e79",
        "colab": {
          "base_uri": "https://localhost:8080/",
          "height": 17
        }
      },
      "source": [
        "pred,pred_idx,probs = learn_inf.predict(img)"
      ],
      "execution_count": 17,
      "outputs": [
        {
          "output_type": "display_data",
          "data": {
            "text/html": [
              ""
            ],
            "text/plain": [
              "<IPython.core.display.HTML object>"
            ]
          },
          "metadata": {
            "tags": []
          }
        }
      ]
    },
    {
      "cell_type": "code",
      "metadata": {
        "id": "T7tJZ_aKhEHY",
        "outputId": "6abb8525-c67d-44af-bd3c-fc3320b3c553",
        "colab": {
          "base_uri": "https://localhost:8080/",
          "height": 49,
          "referenced_widgets": [
            "ea563686aa7343b095e6a36aa07a0f68",
            "2d3b9a25e5c04d0cbfc3f4ba197fb4d6",
            "fa29fdb221a548eca74e055f6b6e5bf6"
          ]
        }
      },
      "source": [
        "lbl_pred = widgets.Label()\n",
        "lbl_pred.value = f'Prediction: {pred}; Probability: {probs[pred_idx]:.04f}'\n",
        "lbl_pred"
      ],
      "execution_count": 18,
      "outputs": [
        {
          "output_type": "display_data",
          "data": {
            "application/vnd.jupyter.widget-view+json": {
              "model_id": "ea563686aa7343b095e6a36aa07a0f68",
              "version_minor": 0,
              "version_major": 2
            },
            "text/plain": [
              "Label(value='Prediction: Bishop; Probability: 0.9995')"
            ]
          },
          "metadata": {
            "tags": []
          }
        }
      ]
    },
    {
      "cell_type": "code",
      "metadata": {
        "id": "h_jgmT8qhNSE",
        "outputId": "2a5b7f19-4d95-4a23-a548-ef0a36ffb4df",
        "colab": {
          "base_uri": "https://localhost:8080/",
          "height": 49,
          "referenced_widgets": [
            "048dba93ce8d461fbaf027635ae241b2",
            "4cecdbb0666e4687a1881abdd21b31cb",
            "8ac75b2b74c94717ae905c576e4a9540"
          ]
        }
      },
      "source": [
        "btn_run = widgets.Button(description='Classify')\n",
        "btn_run"
      ],
      "execution_count": 19,
      "outputs": [
        {
          "output_type": "display_data",
          "data": {
            "application/vnd.jupyter.widget-view+json": {
              "model_id": "048dba93ce8d461fbaf027635ae241b2",
              "version_minor": 0,
              "version_major": 2
            },
            "text/plain": [
              "Button(description='Classify', style=ButtonStyle())"
            ]
          },
          "metadata": {
            "tags": []
          }
        }
      ]
    },
    {
      "cell_type": "code",
      "metadata": {
        "id": "BoxKj9y4hPj2"
      },
      "source": [
        "def on_click_classify(change):\n",
        "    img = PILImage.create(btn_upload.data[-1])\n",
        "    out_pl.clear_output()\n",
        "    with out_pl: display(img.to_thumb(128,128))\n",
        "    pred,pred_idx,probs = learn_inf.predict(img)\n",
        "    lbl_pred.value = f'Prediction: {pred}; Probability: {probs[pred_idx]:.04f}'\n",
        "\n",
        "btn_run.on_click(on_click_classify)"
      ],
      "execution_count": 20,
      "outputs": []
    },
    {
      "cell_type": "code",
      "metadata": {
        "id": "ahLItfY2hPiO"
      },
      "source": [
        "#hide\n",
        "#Putting back btn_upload to a widget for next cell\n",
        "btn_upload = widgets.FileUpload()"
      ],
      "execution_count": 21,
      "outputs": []
    },
    {
      "cell_type": "code",
      "metadata": {
        "id": "eDDT_nEki71R",
        "outputId": "b4c8b16e-dfc0-44db-9626-312b162afbfa",
        "colab": {
          "base_uri": "https://localhost:8080/",
          "height": 273,
          "referenced_widgets": [
            "c86454cec4a747fab8e92a7e4cdb0812",
            "4c73388b772a4b77919c3eba89e7433f",
            "62380057b68e43c3abda5b4f6d106e98",
            "e39da61f701d447092a0f7bc8e440a4d",
            "048dba93ce8d461fbaf027635ae241b2",
            "54c15b0525ad44f1ae86785bfacdd5e0",
            "ea563686aa7343b095e6a36aa07a0f68",
            "e0704d77c28e4a1ca388d05c788057ed",
            "ba9b6938941f482589289e27acb05db5",
            "72ae10d50f7c40f7aa55f4ca56a10185",
            "47e17ea8e2c94c3789d4dd8b54463c05",
            "4cecdbb0666e4687a1881abdd21b31cb",
            "8ac75b2b74c94717ae905c576e4a9540",
            "2d3b9a25e5c04d0cbfc3f4ba197fb4d6",
            "fa29fdb221a548eca74e055f6b6e5bf6",
            "3de9f5b0644640a8b96c3b5d2072ac97"
          ]
        }
      },
      "source": [
        "#hide_output\n",
        "VBox([widgets.Label('Select your piece!'), \n",
        "      btn_upload, btn_run, out_pl, lbl_pred])"
      ],
      "execution_count": 22,
      "outputs": [
        {
          "output_type": "display_data",
          "data": {
            "application/vnd.jupyter.widget-view+json": {
              "model_id": "c86454cec4a747fab8e92a7e4cdb0812",
              "version_minor": 0,
              "version_major": 2
            },
            "text/plain": [
              "VBox(children=(Label(value='Select your piece!'), FileUpload(value={}, description='Upload'), Button(descripti…"
            ]
          },
          "metadata": {
            "tags": []
          }
        }
      ]
    },
    {
      "cell_type": "code",
      "metadata": {
        "id": "riIX6WBkpAp7"
      },
      "source": [
        "#The latest version of voila is incompatible with the latest version of nbdev (as\n",
        "# voila require nbconvert >=6 yet nbdev requires nbconvert < 6), so we install an older version of nbdev\n",
        "import nbdev"
      ],
      "execution_count": 23,
      "outputs": []
    },
    {
      "cell_type": "code",
      "metadata": {
        "id": "NQUn7FacjQbJ",
        "outputId": "9cf1b244-7db4-4399-8bf0-baeae402597a",
        "colab": {
          "base_uri": "https://localhost:8080/",
          "height": 102
        }
      },
      "source": [
        "import voila\n",
        "!jupyter server extension enable voila.server_extension --sys-prefix"
      ],
      "execution_count": 24,
      "outputs": [
        {
          "output_type": "stream",
          "text": [
            "Enabling: voila.server_extension\n",
            "- Writing config: /usr/etc/jupyter\n",
            "    - Validating voila.server_extension...\n",
            "      voila.server_extension  \u001b[32mOK\u001b[0m\n",
            "    - Extension successfully enabled.\n"
          ],
          "name": "stdout"
        }
      ]
    }
  ]
}