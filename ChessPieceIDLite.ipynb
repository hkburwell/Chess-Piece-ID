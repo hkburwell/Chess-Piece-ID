{
  "nbformat": 4,
  "nbformat_minor": 0,
  "metadata": {
    "accelerator": "GPU",
    "colab": {
      "name": "ChessPieceIDLite.ipynb",
      "provenance": [],
      "collapsed_sections": [],
      "authorship_tag": "ABX9TyMvhnJSyVw5No4omyC9gNvz",
      "include_colab_link": true
    },
    "kernelspec": {
      "display_name": "Python 3",
      "name": "python3"
    },
    "widgets": {
      "application/vnd.jupyter.widget-state+json": {
        "f2f816b2e39b4f2b8c9aa58b28e852c1": {
          "model_module": "@jupyter-widgets/controls",
          "model_name": "FileUploadModel",
          "state": {
            "_view_name": "FileUploadView",
            "_counter": 1,
            "style": "IPY_MODEL_e005a1b3bd53440c8439fe303161bfc1",
            "_dom_classes": [],
            "description": "Upload",
            "multiple": false,
            "_model_name": "FileUploadModel",
            "data": [
              null
            ],
            "button_style": "",
            "_view_module": "@jupyter-widgets/controls",
            "_model_module_version": "1.5.0",
            "accept": "",
            "_view_count": null,
            "disabled": false,
            "_view_module_version": "1.5.0",
            "error": "",
            "description_tooltip": null,
            "metadata": [
              {
                "name": "King23.jpg",
                "type": "image/jpeg",
                "size": 13216,
                "lastModified": 1601591580578
              }
            ],
            "_model_module": "@jupyter-widgets/controls",
            "layout": "IPY_MODEL_d6a2a1974d6944de9240418a712faebd",
            "icon": "upload"
          }
        },
        "e005a1b3bd53440c8439fe303161bfc1": {
          "model_module": "@jupyter-widgets/controls",
          "model_name": "ButtonStyleModel",
          "state": {
            "_view_name": "StyleView",
            "_model_name": "ButtonStyleModel",
            "_view_module": "@jupyter-widgets/base",
            "_model_module_version": "1.5.0",
            "_view_count": null,
            "button_color": null,
            "font_weight": "",
            "_view_module_version": "1.2.0",
            "_model_module": "@jupyter-widgets/controls"
          }
        },
        "d6a2a1974d6944de9240418a712faebd": {
          "model_module": "@jupyter-widgets/base",
          "model_name": "LayoutModel",
          "state": {
            "_view_name": "LayoutView",
            "grid_template_rows": null,
            "right": null,
            "justify_content": null,
            "_view_module": "@jupyter-widgets/base",
            "overflow": null,
            "_model_module_version": "1.2.0",
            "_view_count": null,
            "flex_flow": null,
            "width": null,
            "min_width": null,
            "border": null,
            "align_items": null,
            "bottom": null,
            "_model_module": "@jupyter-widgets/base",
            "top": null,
            "grid_column": null,
            "overflow_y": null,
            "overflow_x": null,
            "grid_auto_flow": null,
            "grid_area": null,
            "grid_template_columns": null,
            "flex": null,
            "_model_name": "LayoutModel",
            "justify_items": null,
            "grid_row": null,
            "max_height": null,
            "align_content": null,
            "visibility": null,
            "align_self": null,
            "height": null,
            "min_height": null,
            "padding": null,
            "grid_auto_rows": null,
            "grid_gap": null,
            "max_width": null,
            "order": null,
            "_view_module_version": "1.2.0",
            "grid_template_areas": null,
            "object_position": null,
            "object_fit": null,
            "grid_auto_columns": null,
            "margin": null,
            "display": null,
            "left": null
          }
        },
        "54f23a9b4a3d422f95b7e05cff5a6504": {
          "model_module": "@jupyter-widgets/output",
          "model_name": "OutputModel",
          "state": {
            "_view_name": "OutputView",
            "msg_id": "",
            "_dom_classes": [],
            "_model_name": "OutputModel",
            "outputs": [
              {
                "output_type": "display_data",
                "metadata": {
                  "tags": []
                },
                "image/png": "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\n",
                "text/plain": "<PIL.Image.Image image mode=RGB size=128x128 at 0x7FDE281C4C88>"
              }
            ],
            "_view_module": "@jupyter-widgets/output",
            "_model_module_version": "1.0.0",
            "_view_count": null,
            "_view_module_version": "1.0.0",
            "layout": "IPY_MODEL_06cca33cfd154b418977e54539b0c52f",
            "_model_module": "@jupyter-widgets/output"
          }
        },
        "06cca33cfd154b418977e54539b0c52f": {
          "model_module": "@jupyter-widgets/base",
          "model_name": "LayoutModel",
          "state": {
            "_view_name": "LayoutView",
            "grid_template_rows": null,
            "right": null,
            "justify_content": null,
            "_view_module": "@jupyter-widgets/base",
            "overflow": null,
            "_model_module_version": "1.2.0",
            "_view_count": null,
            "flex_flow": null,
            "width": null,
            "min_width": null,
            "border": null,
            "align_items": null,
            "bottom": null,
            "_model_module": "@jupyter-widgets/base",
            "top": null,
            "grid_column": null,
            "overflow_y": null,
            "overflow_x": null,
            "grid_auto_flow": null,
            "grid_area": null,
            "grid_template_columns": null,
            "flex": null,
            "_model_name": "LayoutModel",
            "justify_items": null,
            "grid_row": null,
            "max_height": null,
            "align_content": null,
            "visibility": null,
            "align_self": null,
            "height": null,
            "min_height": null,
            "padding": null,
            "grid_auto_rows": null,
            "grid_gap": null,
            "max_width": null,
            "order": null,
            "_view_module_version": "1.2.0",
            "grid_template_areas": null,
            "object_position": null,
            "object_fit": null,
            "grid_auto_columns": null,
            "margin": null,
            "display": null,
            "left": null
          }
        },
        "cfbe3e9be3204095903ab29ef325f229": {
          "model_module": "@jupyter-widgets/controls",
          "model_name": "LabelModel",
          "state": {
            "_view_name": "LabelView",
            "style": "IPY_MODEL_fad051f16cc048d7aa9004626db51ea2",
            "_dom_classes": [],
            "description": "",
            "_model_name": "LabelModel",
            "placeholder": "​",
            "_view_module": "@jupyter-widgets/controls",
            "_model_module_version": "1.5.0",
            "value": "Prediction: King; Probability: 1.0000",
            "_view_count": null,
            "_view_module_version": "1.5.0",
            "description_tooltip": null,
            "_model_module": "@jupyter-widgets/controls",
            "layout": "IPY_MODEL_29cd5796c5f84ed6a72220c27f4106dc"
          }
        },
        "fad051f16cc048d7aa9004626db51ea2": {
          "model_module": "@jupyter-widgets/controls",
          "model_name": "DescriptionStyleModel",
          "state": {
            "_view_name": "StyleView",
            "_model_name": "DescriptionStyleModel",
            "description_width": "",
            "_view_module": "@jupyter-widgets/base",
            "_model_module_version": "1.5.0",
            "_view_count": null,
            "_view_module_version": "1.2.0",
            "_model_module": "@jupyter-widgets/controls"
          }
        },
        "29cd5796c5f84ed6a72220c27f4106dc": {
          "model_module": "@jupyter-widgets/base",
          "model_name": "LayoutModel",
          "state": {
            "_view_name": "LayoutView",
            "grid_template_rows": null,
            "right": null,
            "justify_content": null,
            "_view_module": "@jupyter-widgets/base",
            "overflow": null,
            "_model_module_version": "1.2.0",
            "_view_count": null,
            "flex_flow": null,
            "width": null,
            "min_width": null,
            "border": null,
            "align_items": null,
            "bottom": null,
            "_model_module": "@jupyter-widgets/base",
            "top": null,
            "grid_column": null,
            "overflow_y": null,
            "overflow_x": null,
            "grid_auto_flow": null,
            "grid_area": null,
            "grid_template_columns": null,
            "flex": null,
            "_model_name": "LayoutModel",
            "justify_items": null,
            "grid_row": null,
            "max_height": null,
            "align_content": null,
            "visibility": null,
            "align_self": null,
            "height": null,
            "min_height": null,
            "padding": null,
            "grid_auto_rows": null,
            "grid_gap": null,
            "max_width": null,
            "order": null,
            "_view_module_version": "1.2.0",
            "grid_template_areas": null,
            "object_position": null,
            "object_fit": null,
            "grid_auto_columns": null,
            "margin": null,
            "display": null,
            "left": null
          }
        },
        "b53e621e46d44571a4bc9aab47b8f132": {
          "model_module": "@jupyter-widgets/controls",
          "model_name": "ButtonModel",
          "state": {
            "_view_name": "ButtonView",
            "style": "IPY_MODEL_45100d801ed840a187f3ad9a7e38eaad",
            "_dom_classes": [],
            "description": "Classify",
            "_model_name": "ButtonModel",
            "button_style": "",
            "_view_module": "@jupyter-widgets/controls",
            "_model_module_version": "1.5.0",
            "tooltip": "",
            "_view_count": null,
            "disabled": false,
            "_view_module_version": "1.5.0",
            "layout": "IPY_MODEL_14c17e388c8b482fb6e5a9d82dfbb22f",
            "_model_module": "@jupyter-widgets/controls",
            "icon": ""
          }
        },
        "45100d801ed840a187f3ad9a7e38eaad": {
          "model_module": "@jupyter-widgets/controls",
          "model_name": "ButtonStyleModel",
          "state": {
            "_view_name": "StyleView",
            "_model_name": "ButtonStyleModel",
            "_view_module": "@jupyter-widgets/base",
            "_model_module_version": "1.5.0",
            "_view_count": null,
            "button_color": null,
            "font_weight": "",
            "_view_module_version": "1.2.0",
            "_model_module": "@jupyter-widgets/controls"
          }
        },
        "14c17e388c8b482fb6e5a9d82dfbb22f": {
          "model_module": "@jupyter-widgets/base",
          "model_name": "LayoutModel",
          "state": {
            "_view_name": "LayoutView",
            "grid_template_rows": null,
            "right": null,
            "justify_content": null,
            "_view_module": "@jupyter-widgets/base",
            "overflow": null,
            "_model_module_version": "1.2.0",
            "_view_count": null,
            "flex_flow": null,
            "width": null,
            "min_width": null,
            "border": null,
            "align_items": null,
            "bottom": null,
            "_model_module": "@jupyter-widgets/base",
            "top": null,
            "grid_column": null,
            "overflow_y": null,
            "overflow_x": null,
            "grid_auto_flow": null,
            "grid_area": null,
            "grid_template_columns": null,
            "flex": null,
            "_model_name": "LayoutModel",
            "justify_items": null,
            "grid_row": null,
            "max_height": null,
            "align_content": null,
            "visibility": null,
            "align_self": null,
            "height": null,
            "min_height": null,
            "padding": null,
            "grid_auto_rows": null,
            "grid_gap": null,
            "max_width": null,
            "order": null,
            "_view_module_version": "1.2.0",
            "grid_template_areas": null,
            "object_position": null,
            "object_fit": null,
            "grid_auto_columns": null,
            "margin": null,
            "display": null,
            "left": null
          }
        },
        "141571134364451e898a6868c8d75001": {
          "model_module": "@jupyter-widgets/controls",
          "model_name": "VBoxModel",
          "state": {
            "_view_name": "VBoxView",
            "_dom_classes": [],
            "_model_name": "VBoxModel",
            "_view_module": "@jupyter-widgets/controls",
            "_model_module_version": "1.5.0",
            "_view_count": null,
            "_view_module_version": "1.5.0",
            "box_style": "",
            "layout": "IPY_MODEL_8ce58bb78ee341fb881d2436beed9b1d",
            "_model_module": "@jupyter-widgets/controls",
            "children": [
              "IPY_MODEL_6d06a6936bde40a3b5ad8edd36ac4fa1",
              "IPY_MODEL_94c00c7d46274a45b985f4ceb5026463",
              "IPY_MODEL_b53e621e46d44571a4bc9aab47b8f132",
              "IPY_MODEL_54f23a9b4a3d422f95b7e05cff5a6504",
              "IPY_MODEL_cfbe3e9be3204095903ab29ef325f229"
            ]
          }
        },
        "8ce58bb78ee341fb881d2436beed9b1d": {
          "model_module": "@jupyter-widgets/base",
          "model_name": "LayoutModel",
          "state": {
            "_view_name": "LayoutView",
            "grid_template_rows": null,
            "right": null,
            "justify_content": null,
            "_view_module": "@jupyter-widgets/base",
            "overflow": null,
            "_model_module_version": "1.2.0",
            "_view_count": null,
            "flex_flow": null,
            "width": null,
            "min_width": null,
            "border": null,
            "align_items": null,
            "bottom": null,
            "_model_module": "@jupyter-widgets/base",
            "top": null,
            "grid_column": null,
            "overflow_y": null,
            "overflow_x": null,
            "grid_auto_flow": null,
            "grid_area": null,
            "grid_template_columns": null,
            "flex": null,
            "_model_name": "LayoutModel",
            "justify_items": null,
            "grid_row": null,
            "max_height": null,
            "align_content": null,
            "visibility": null,
            "align_self": null,
            "height": null,
            "min_height": null,
            "padding": null,
            "grid_auto_rows": null,
            "grid_gap": null,
            "max_width": null,
            "order": null,
            "_view_module_version": "1.2.0",
            "grid_template_areas": null,
            "object_position": null,
            "object_fit": null,
            "grid_auto_columns": null,
            "margin": null,
            "display": null,
            "left": null
          }
        },
        "6d06a6936bde40a3b5ad8edd36ac4fa1": {
          "model_module": "@jupyter-widgets/controls",
          "model_name": "LabelModel",
          "state": {
            "_view_name": "LabelView",
            "style": "IPY_MODEL_1ee0ad85a6a346e79e0e05df710605d8",
            "_dom_classes": [],
            "description": "",
            "_model_name": "LabelModel",
            "placeholder": "​",
            "_view_module": "@jupyter-widgets/controls",
            "_model_module_version": "1.5.0",
            "value": "Select your piece!",
            "_view_count": null,
            "_view_module_version": "1.5.0",
            "description_tooltip": null,
            "_model_module": "@jupyter-widgets/controls",
            "layout": "IPY_MODEL_165763d4b98c4757b12e0e55c7bb9581"
          }
        },
        "94c00c7d46274a45b985f4ceb5026463": {
          "model_module": "@jupyter-widgets/controls",
          "model_name": "FileUploadModel",
          "state": {
            "_view_name": "FileUploadView",
            "_counter": 0,
            "style": "IPY_MODEL_3c8cfea577434ddc9849c2df68126229",
            "_dom_classes": [],
            "description": "Upload",
            "multiple": false,
            "_model_name": "FileUploadModel",
            "data": [],
            "button_style": "",
            "_view_module": "@jupyter-widgets/controls",
            "_model_module_version": "1.5.0",
            "accept": "",
            "_view_count": null,
            "disabled": false,
            "_view_module_version": "1.5.0",
            "error": "",
            "description_tooltip": null,
            "metadata": [],
            "_model_module": "@jupyter-widgets/controls",
            "layout": "IPY_MODEL_8663910fa8f2440fb438c04965c80c61",
            "icon": "upload"
          }
        },
        "1ee0ad85a6a346e79e0e05df710605d8": {
          "model_module": "@jupyter-widgets/controls",
          "model_name": "DescriptionStyleModel",
          "state": {
            "_view_name": "StyleView",
            "_model_name": "DescriptionStyleModel",
            "description_width": "",
            "_view_module": "@jupyter-widgets/base",
            "_model_module_version": "1.5.0",
            "_view_count": null,
            "_view_module_version": "1.2.0",
            "_model_module": "@jupyter-widgets/controls"
          }
        },
        "165763d4b98c4757b12e0e55c7bb9581": {
          "model_module": "@jupyter-widgets/base",
          "model_name": "LayoutModel",
          "state": {
            "_view_name": "LayoutView",
            "grid_template_rows": null,
            "right": null,
            "justify_content": null,
            "_view_module": "@jupyter-widgets/base",
            "overflow": null,
            "_model_module_version": "1.2.0",
            "_view_count": null,
            "flex_flow": null,
            "width": null,
            "min_width": null,
            "border": null,
            "align_items": null,
            "bottom": null,
            "_model_module": "@jupyter-widgets/base",
            "top": null,
            "grid_column": null,
            "overflow_y": null,
            "overflow_x": null,
            "grid_auto_flow": null,
            "grid_area": null,
            "grid_template_columns": null,
            "flex": null,
            "_model_name": "LayoutModel",
            "justify_items": null,
            "grid_row": null,
            "max_height": null,
            "align_content": null,
            "visibility": null,
            "align_self": null,
            "height": null,
            "min_height": null,
            "padding": null,
            "grid_auto_rows": null,
            "grid_gap": null,
            "max_width": null,
            "order": null,
            "_view_module_version": "1.2.0",
            "grid_template_areas": null,
            "object_position": null,
            "object_fit": null,
            "grid_auto_columns": null,
            "margin": null,
            "display": null,
            "left": null
          }
        },
        "3c8cfea577434ddc9849c2df68126229": {
          "model_module": "@jupyter-widgets/controls",
          "model_name": "ButtonStyleModel",
          "state": {
            "_view_name": "StyleView",
            "_model_name": "ButtonStyleModel",
            "_view_module": "@jupyter-widgets/base",
            "_model_module_version": "1.5.0",
            "_view_count": null,
            "button_color": null,
            "font_weight": "",
            "_view_module_version": "1.2.0",
            "_model_module": "@jupyter-widgets/controls"
          }
        },
        "8663910fa8f2440fb438c04965c80c61": {
          "model_module": "@jupyter-widgets/base",
          "model_name": "LayoutModel",
          "state": {
            "_view_name": "LayoutView",
            "grid_template_rows": null,
            "right": null,
            "justify_content": null,
            "_view_module": "@jupyter-widgets/base",
            "overflow": null,
            "_model_module_version": "1.2.0",
            "_view_count": null,
            "flex_flow": null,
            "width": null,
            "min_width": null,
            "border": null,
            "align_items": null,
            "bottom": null,
            "_model_module": "@jupyter-widgets/base",
            "top": null,
            "grid_column": null,
            "overflow_y": null,
            "overflow_x": null,
            "grid_auto_flow": null,
            "grid_area": null,
            "grid_template_columns": null,
            "flex": null,
            "_model_name": "LayoutModel",
            "justify_items": null,
            "grid_row": null,
            "max_height": null,
            "align_content": null,
            "visibility": null,
            "align_self": null,
            "height": null,
            "min_height": null,
            "padding": null,
            "grid_auto_rows": null,
            "grid_gap": null,
            "max_width": null,
            "order": null,
            "_view_module_version": "1.2.0",
            "grid_template_areas": null,
            "object_position": null,
            "object_fit": null,
            "grid_auto_columns": null,
            "margin": null,
            "display": null,
            "left": null
          }
        }
      }
    }
  },
  "cells": [
    {
      "cell_type": "markdown",
      "metadata": {
        "id": "view-in-github",
        "colab_type": "text"
      },
      "source": [
        "<a href=\"https://colab.research.google.com/github/hkburwell/Chess-Piece-ID/blob/main/ChessPieceIDLite.ipynb\" target=\"_parent\"><img src=\"https://colab.research.google.com/assets/colab-badge.svg\" alt=\"Open In Colab\"/></a>"
      ]
    },
    {
      "cell_type": "code",
      "metadata": {
        "id": "PioXtujHBnn9"
      },
      "source": [
        "!pip install fastai --upgrade -q"
      ],
      "execution_count": 1,
      "outputs": []
    },
    {
      "cell_type": "code",
      "metadata": {
        "id": "gg3Dl_uvZJOe"
      },
      "source": [
        "!pip install -Uqq fastbook"
      ],
      "execution_count": 2,
      "outputs": []
    },
    {
      "cell_type": "code",
      "metadata": {
        "id": "CqPtMtIxaUXf"
      },
      "source": [
        "import fastbook\n"
      ],
      "execution_count": 3,
      "outputs": []
    },
    {
      "cell_type": "code",
      "metadata": {
        "id": "-fUu2flm2571"
      },
      "source": [
        "import torchvision"
      ],
      "execution_count": 4,
      "outputs": []
    },
    {
      "cell_type": "code",
      "metadata": {
        "id": "X7xiKfySSsvF",
        "outputId": "9361b640-5467-4e83-96f1-278cbb6f124e",
        "colab": {
          "base_uri": "https://localhost:8080/",
          "height": 34
        }
      },
      "source": [
        "import os\n",
        "from google.colab import drive \n",
        "drive.mount('/content/drive')"
      ],
      "execution_count": 6,
      "outputs": [
        {
          "output_type": "stream",
          "text": [
            "Drive already mounted at /content/drive; to attempt to forcibly remount, call drive.mount(\"/content/drive\", force_remount=True).\n"
          ],
          "name": "stdout"
        }
      ]
    },
    {
      "cell_type": "code",
      "metadata": {
        "id": "Sxgv-CWE-81T"
      },
      "source": [
        "#fastbook.setup_book()\n",
        "from fastbook import *\n",
        "from fastai.vision.widgets import *"
      ],
      "execution_count": 7,
      "outputs": []
    },
    {
      "cell_type": "code",
      "metadata": {
        "id": "h2gncn0_Mpsu"
      },
      "source": [
        "from PIL import Image"
      ],
      "execution_count": 8,
      "outputs": []
    },
    {
      "cell_type": "code",
      "metadata": {
        "id": "WblJmDJZgZCJ"
      },
      "source": [
        "#Changing directory to My Drive\n",
        "os.chdir('/content/drive/My Drive/Pieces')\n",
        "path = '/content/drive/My Drive/Pieces'"
      ],
      "execution_count": 9,
      "outputs": []
    },
    {
      "cell_type": "code",
      "metadata": {
        "id": "D49kWeA1ldPt",
        "outputId": "c7f67455-3cb7-46e9-ebd9-4f6cb7c56ccb",
        "colab": {
          "base_uri": "https://localhost:8080/",
          "height": 34
        }
      },
      "source": [
        "path = Path()\n",
        "path.ls(file_exts='.pkl')"
      ],
      "execution_count": 10,
      "outputs": [
        {
          "output_type": "execute_result",
          "data": {
            "text/plain": [
              "(#1) [Path('export.pkl')]"
            ]
          },
          "metadata": {
            "tags": []
          },
          "execution_count": 10
        }
      ]
    },
    {
      "cell_type": "code",
      "metadata": {
        "id": "NxLvIL1mldMg"
      },
      "source": [
        "learn_inf = load_learner(path/'export.pkl',cpu=True)"
      ],
      "execution_count": 11,
      "outputs": []
    },
    {
      "cell_type": "code",
      "metadata": {
        "id": "suXDZmKSgHg3",
        "outputId": "7e160dfe-f5e2-4500-bcaa-157bddfa44ad",
        "colab": {
          "base_uri": "https://localhost:8080/",
          "height": 49,
          "referenced_widgets": [
            "f2f816b2e39b4f2b8c9aa58b28e852c1",
            "e005a1b3bd53440c8439fe303161bfc1",
            "d6a2a1974d6944de9240418a712faebd"
          ]
        }
      },
      "source": [
        "#Now, we wish to turn this into an interactive app of sorts\n",
        "#We start with a button:\n",
        "btn_upload = widgets.FileUpload()\n",
        "btn_upload"
      ],
      "execution_count": 12,
      "outputs": [
        {
          "output_type": "display_data",
          "data": {
            "application/vnd.jupyter.widget-view+json": {
              "model_id": "f2f816b2e39b4f2b8c9aa58b28e852c1",
              "version_minor": 0,
              "version_major": 2
            },
            "text/plain": [
              "FileUpload(value={}, description='Upload')"
            ]
          },
          "metadata": {
            "tags": []
          }
        }
      ]
    },
    {
      "cell_type": "code",
      "metadata": {
        "id": "RFFsHA8AgHse"
      },
      "source": [
        "img = PILImage.create(btn_upload.data[-1])"
      ],
      "execution_count": 13,
      "outputs": []
    },
    {
      "cell_type": "code",
      "metadata": {
        "id": "B-jEektigH2L",
        "outputId": "f11acab1-3e67-44e4-ed66-f69c44594cc2",
        "colab": {
          "base_uri": "https://localhost:8080/",
          "height": 145,
          "referenced_widgets": [
            "54f23a9b4a3d422f95b7e05cff5a6504",
            "06cca33cfd154b418977e54539b0c52f"
          ]
        }
      },
      "source": [
        "out_pl = widgets.Output()\n",
        "out_pl.clear_output()\n",
        "with out_pl: display(img.to_thumb(128,128))\n",
        "out_pl"
      ],
      "execution_count": 14,
      "outputs": [
        {
          "output_type": "display_data",
          "data": {
            "application/vnd.jupyter.widget-view+json": {
              "model_id": "54f23a9b4a3d422f95b7e05cff5a6504",
              "version_minor": 0,
              "version_major": 2
            },
            "text/plain": [
              "Output()"
            ]
          },
          "metadata": {
            "tags": []
          }
        }
      ]
    },
    {
      "cell_type": "code",
      "metadata": {
        "id": "fKeyP_55hDWZ",
        "outputId": "29faf26a-37bc-4696-9ec4-a5eb6a44366a",
        "colab": {
          "base_uri": "https://localhost:8080/",
          "height": 17
        }
      },
      "source": [
        "pred,pred_idx,probs = learn_inf.predict(img)"
      ],
      "execution_count": 15,
      "outputs": [
        {
          "output_type": "display_data",
          "data": {
            "text/html": [
              ""
            ],
            "text/plain": [
              "<IPython.core.display.HTML object>"
            ]
          },
          "metadata": {
            "tags": []
          }
        }
      ]
    },
    {
      "cell_type": "code",
      "metadata": {
        "id": "T7tJZ_aKhEHY",
        "outputId": "18c4003f-eb5d-4b75-d0c9-08065772c4f3",
        "colab": {
          "base_uri": "https://localhost:8080/",
          "height": 49,
          "referenced_widgets": [
            "cfbe3e9be3204095903ab29ef325f229",
            "fad051f16cc048d7aa9004626db51ea2",
            "29cd5796c5f84ed6a72220c27f4106dc"
          ]
        }
      },
      "source": [
        "lbl_pred = widgets.Label()\n",
        "lbl_pred.value = f'Prediction: {pred}; Probability: {probs[pred_idx]:.04f}'\n",
        "lbl_pred"
      ],
      "execution_count": 16,
      "outputs": [
        {
          "output_type": "display_data",
          "data": {
            "application/vnd.jupyter.widget-view+json": {
              "model_id": "cfbe3e9be3204095903ab29ef325f229",
              "version_minor": 0,
              "version_major": 2
            },
            "text/plain": [
              "Label(value='Prediction: King; Probability: 1.0000')"
            ]
          },
          "metadata": {
            "tags": []
          }
        }
      ]
    },
    {
      "cell_type": "code",
      "metadata": {
        "id": "h_jgmT8qhNSE",
        "outputId": "9067b44a-bf48-4bdd-b63b-a91798620e63",
        "colab": {
          "base_uri": "https://localhost:8080/",
          "height": 49,
          "referenced_widgets": [
            "b53e621e46d44571a4bc9aab47b8f132",
            "45100d801ed840a187f3ad9a7e38eaad",
            "14c17e388c8b482fb6e5a9d82dfbb22f"
          ]
        }
      },
      "source": [
        "btn_run = widgets.Button(description='Classify')\n",
        "btn_run"
      ],
      "execution_count": 17,
      "outputs": [
        {
          "output_type": "display_data",
          "data": {
            "application/vnd.jupyter.widget-view+json": {
              "model_id": "b53e621e46d44571a4bc9aab47b8f132",
              "version_minor": 0,
              "version_major": 2
            },
            "text/plain": [
              "Button(description='Classify', style=ButtonStyle())"
            ]
          },
          "metadata": {
            "tags": []
          }
        }
      ]
    },
    {
      "cell_type": "code",
      "metadata": {
        "id": "BoxKj9y4hPj2"
      },
      "source": [
        "def on_click_classify(change):\n",
        "    img = PILImage.create(btn_upload.data[-1])\n",
        "    out_pl.clear_output()\n",
        "    with out_pl: display(img.to_thumb(128,128))\n",
        "    pred,pred_idx,probs = learn_inf.predict(img)\n",
        "    lbl_pred.value = f'Prediction: {pred}; Probability: {probs[pred_idx]:.04f}'\n",
        "\n",
        "btn_run.on_click(on_click_classify)"
      ],
      "execution_count": 18,
      "outputs": []
    },
    {
      "cell_type": "code",
      "metadata": {
        "id": "ahLItfY2hPiO"
      },
      "source": [
        "#hide\n",
        "#Putting back btn_upload to a widget for next cell\n",
        "btn_upload = widgets.FileUpload()"
      ],
      "execution_count": 19,
      "outputs": []
    },
    {
      "cell_type": "code",
      "metadata": {
        "id": "eDDT_nEki71R",
        "outputId": "8f07e084-c5c6-4c51-9fd1-435d996af9fd",
        "colab": {
          "base_uri": "https://localhost:8080/",
          "height": 273,
          "referenced_widgets": [
            "141571134364451e898a6868c8d75001",
            "8ce58bb78ee341fb881d2436beed9b1d",
            "6d06a6936bde40a3b5ad8edd36ac4fa1",
            "94c00c7d46274a45b985f4ceb5026463",
            "b53e621e46d44571a4bc9aab47b8f132",
            "54f23a9b4a3d422f95b7e05cff5a6504",
            "cfbe3e9be3204095903ab29ef325f229",
            "1ee0ad85a6a346e79e0e05df710605d8",
            "165763d4b98c4757b12e0e55c7bb9581",
            "3c8cfea577434ddc9849c2df68126229",
            "8663910fa8f2440fb438c04965c80c61",
            "45100d801ed840a187f3ad9a7e38eaad",
            "14c17e388c8b482fb6e5a9d82dfbb22f",
            "fad051f16cc048d7aa9004626db51ea2",
            "29cd5796c5f84ed6a72220c27f4106dc",
            "06cca33cfd154b418977e54539b0c52f"
          ]
        }
      },
      "source": [
        "#hide_output\n",
        "VBox([widgets.Label('Select your piece!'), \n",
        "      btn_upload, btn_run, out_pl, lbl_pred])"
      ],
      "execution_count": 20,
      "outputs": [
        {
          "output_type": "display_data",
          "data": {
            "application/vnd.jupyter.widget-view+json": {
              "model_id": "141571134364451e898a6868c8d75001",
              "version_minor": 0,
              "version_major": 2
            },
            "text/plain": [
              "VBox(children=(Label(value='Select your piece!'), FileUpload(value={}, description='Upload'), Button(descripti…"
            ]
          },
          "metadata": {
            "tags": []
          }
        }
      ]
    },
    {
      "cell_type": "code",
      "metadata": {
        "id": "riIX6WBkpAp7"
      },
      "source": [
        "#The latest version of voila is incompatible with the latest version of nbdev (as\n",
        "# voila requires nbconvert >=6 yet nbdev requires nbconvert < 6), so we install an older version of nbdev\n",
        "!pip install nbdev==1.0.16"
      ],
      "execution_count": null,
      "outputs": []
    },
    {
      "cell_type": "code",
      "metadata": {
        "id": "NQUn7FacjQbJ",
        "outputId": "01d4d8bb-eaa5-4534-ee5c-51b266b58a7e",
        "colab": {
          "base_uri": "https://localhost:8080/",
          "height": 102
        }
      },
      "source": [
        "import voila\n",
        "!jupyter server extension enable voila.server_extension --sys-prefix"
      ],
      "execution_count": 40,
      "outputs": [
        {
          "output_type": "stream",
          "text": [
            "Enabling: voila.server_extension\n",
            "- Writing config: /usr/etc/jupyter\n",
            "    - Validating voila.server_extension...\n",
            "      voila.server_extension  \u001b[32mOK\u001b[0m\n",
            "    - Extension successfully enabled.\n"
          ],
          "name": "stdout"
        }
      ]
    },
    {
      "cell_type": "code",
      "metadata": {
        "id": "TV32LMEiqgi6",
        "outputId": "4ccf4da7-a64e-46dd-e093-bbbc43b41e4b",
        "colab": {
          "base_uri": "https://localhost:8080/",
          "height": 35
        }
      },
      "source": [
        "import nbconvert\n",
        "nbconvert.__version__"
      ],
      "execution_count": 41,
      "outputs": [
        {
          "output_type": "execute_result",
          "data": {
            "application/vnd.google.colaboratory.intrinsic+json": {
              "type": "string"
            },
            "text/plain": [
              "'6.0.7'"
            ]
          },
          "metadata": {
            "tags": []
          },
          "execution_count": 41
        }
      ]
    }
  ]
}